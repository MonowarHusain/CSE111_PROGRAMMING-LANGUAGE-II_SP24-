{
  "nbformat": 4,
  "nbformat_minor": 0,
  "metadata": {
    "colab": {
      "provenance": []
    },
    "kernelspec": {
      "name": "python3",
      "display_name": "Python 3"
    },
    "language_info": {
      "name": "python"
    }
  },
  "cells": [
    {
      "cell_type": "code",
      "execution_count": null,
      "metadata": {
        "colab": {
          "base_uri": "https://localhost:8080/"
        },
        "id": "7i7ffsb048CW",
        "outputId": "c651e982-8a56-4432-be8e-da3e62835505"
      },
      "outputs": [
        {
          "output_type": "stream",
          "name": "stdout",
          "text": [
            "Highest fee was 1000 tk which was paid by Neymar, Bale\n"
          ]
        }
      ],
      "source": [
        "#TASK_01\n",
        "def hospital_fee(**kwargs):\n",
        "  max_amount = 0\n",
        "  max_player = []\n",
        "  for i,j in kwargs.items():\n",
        "    if j > max_amount:\n",
        "      max_amount = j\n",
        "      max_player = [i]\n",
        "    elif j == max_amount:\n",
        "      max_player.append(i)\n",
        "\n",
        "  return max_amount, max_player\n",
        "\n",
        "max_amount, max_player = hospital_fee(Neymar =1000, Dembele = 600, Reus = 500, Bale = 1000)\n",
        "\n",
        "print(f\"Highest fee was {max_amount} tk which was paid by {', '.join (max_player)}\")\n",
        "\n",
        "\n",
        "\n"
      ]
    },
    {
      "cell_type": "code",
      "source": [
        "#TASK_02\n",
        "def is_james_bond(lst):\n",
        "    l = [0, 0, 7]\n",
        "    idx = 0\n",
        "\n",
        "    for num in lst:\n",
        "        if num == l[idx]:\n",
        "            idx += 1\n",
        "            if idx == len(l):\n",
        "                return True\n",
        "        if idx == len(l):\n",
        "            break\n",
        "\n",
        "    return False\n",
        "\n",
        "print(is_james_bond( [1, 7, 2, 0, 4, 5, 0] ))"
      ],
      "metadata": {
        "colab": {
          "base_uri": "https://localhost:8080/"
        },
        "id": "v7uPNkSeB2mr",
        "outputId": "64f7f402-0243-4c19-a969-b098921f12af"
      },
      "execution_count": null,
      "outputs": [
        {
          "output_type": "stream",
          "name": "stdout",
          "text": [
            "False\n"
          ]
        }
      ]
    },
    {
      "cell_type": "code",
      "source": [
        "#TASK_03\n",
        "def assign_students_to_sections(sections,*stu_name):\n",
        "    new_dict = {}\n",
        "    for i in sections:\n",
        "        new_dict[i] = []\n",
        "\n",
        "    for name in stu_name:\n",
        "        sum = 0\n",
        "        for char in name:\n",
        "            sum += ord(char)\n",
        "        mod = sum % len(sections)\n",
        "        i = sections[mod]\n",
        "        new_dict[i].append(name)\n",
        "\n",
        "    return new_dict\n",
        "\n",
        "print(assign_students_to_sections ('ABCDE', 'Alice',\n",
        "'Bob', 'Charlie', 'David', 'Eve', 'Frank', 'Grace'))\n",
        "\n",
        "\n",
        "\n",
        "\n"
      ],
      "metadata": {
        "colab": {
          "base_uri": "https://localhost:8080/"
        },
        "id": "ytywK7t6H0w7",
        "outputId": "d94f8608-5ebd-47ed-c169-11745ee1a64d"
      },
      "execution_count": null,
      "outputs": [
        {
          "output_type": "stream",
          "name": "stdout",
          "text": [
            "{'A': ['Bob'], 'B': ['Charlie'], 'C': ['Grace'], 'D': ['Alice', 'David', 'Eve', 'Frank'], 'E': []}\n"
          ]
        }
      ]
    },
    {
      "cell_type": "code",
      "source": [
        " #TASK_04\n",
        "def username_generator(first_name, last_name, student_id, middle_name=\"\"):\n",
        "    username = first_name[:3].upper()\n",
        "    if middle_name:\n",
        "        username += middle_name\n",
        "    username += last_name[-3:].lower()\n",
        "    username += \"_\" + str(student_id)[-4:]\n",
        "    return username\n",
        "first_name, middle_name, last_name, student_id= input (\"First Name:\"), input(\"Middle Name:\"), input (\"Last Name:\"), int (input (\"Student ID:\"))\n",
        "#print(username_generator (first_name, last_name, student_id))\n",
        "print(username_generator(first_name, last_name, student_id, middle_name))"
      ],
      "metadata": {
        "colab": {
          "base_uri": "https://localhost:8080/"
        },
        "id": "hpThPbCqQmqS",
        "outputId": "42bb3ba0-b02a-46f5-fb7c-965f8e5f5200"
      },
      "execution_count": null,
      "outputs": [
        {
          "output_type": "stream",
          "name": "stdout",
          "text": [
            "First Name:Jahanara\n",
            "Middle Name:\n",
            "Last Name:Islam\n",
            "Student ID:22301669\n",
            "JAHlam_1669\n"
          ]
        }
      ]
    },
    {
      "cell_type": "code",
      "source": [
        "#TASK_05\n",
        "def key_generator(*employee_names):\n",
        "    encrypted_keys = []\n",
        "\n",
        "    for i in employee_names:\n",
        "        encrypted_key = i[0].lower()\n",
        "\n",
        "        for j in i[1:-1]:\n",
        "            encrypted_key += str(ord(j))\n",
        "\n",
        "        encrypted_key += i[-1].upper()\n",
        "\n",
        "        encrypted_keys.append(encrypted_key)\n",
        "\n",
        "    return encrypted_keys\n",
        "\n",
        "key_list = key_generator (\"Alex\",\"Bob\", \"Trudy\")\n",
        "print(f\"Encrypted Keys: {key_list}\")"
      ],
      "metadata": {
        "colab": {
          "base_uri": "https://localhost:8080/"
        },
        "id": "c8gdZZVtpOW0",
        "outputId": "ba8b7404-3e84-4cf8-9cee-980230f5880a"
      },
      "execution_count": null,
      "outputs": [
        {
          "output_type": "stream",
          "name": "stdout",
          "text": [
            "Encrypted Keys: ['a108101X', 'b111B', 't114117100Y']\n"
          ]
        }
      ]
    },
    {
      "cell_type": "code",
      "source": [
        "#TASK_06\n",
        "import random\n",
        "def playRockPaperScissor(rounds):\n",
        "  rounds = int(input())\n",
        "  player_score = 0\n",
        "  computer_score = 0\n",
        "  winner = \"\"\n",
        "  Choices = [\"rock\", \"paper\", \"Scisssors\"]\n",
        "\n",
        "  for i in range(rounds):\n",
        "    player_choice = input(\"Enter Your Choices: \")\n",
        "    computer_choice = random.choice(Choices)\n",
        "\n",
        "    if player_choice == computer_choice:\n",
        "      print(\"It's a tie!!\")\n",
        "    elif (player_choice == 'rock' and computer_choice == 'scissors') or (player_choice == 'scissors' and computer_choice == 'paper') or (player_choice == 'paper' and computer_choice == 'rock'):\n",
        "      player_score += 1\n",
        "      print(f\"Your score: {player_score}\")\n",
        "      print(f\"Computer :{computer_score}\")\n",
        "\n",
        "    else:\n",
        "      computer_score += 1\n",
        "      print(f\"Computer :{computer_score}\")\n",
        "      print(f\"Your score: {player_score}\")\n",
        "\n",
        "  if player_score > computer_score:\n",
        "    winner = \"You have won the game!\"\n",
        "  elif player_score < computer_score:\n",
        "    winner = \"Computer has won the game!\"\n",
        "  else:\n",
        "    winner = \"Tie\"\n",
        "\n",
        "\n",
        "  return player_score,computer_score,winner\n",
        "player_score, computer_score, winner = playRockPaperScissor(rounds)\n",
        "print(winner)\n",
        "\n"
      ],
      "metadata": {
        "colab": {
          "base_uri": "https://localhost:8080/"
        },
        "id": "uFqyRJbErpjJ",
        "outputId": "c110ff5f-aa43-4ffe-ac02-fc132019820b"
      },
      "execution_count": null,
      "outputs": [
        {
          "output_type": "stream",
          "name": "stdout",
          "text": [
            "3\n",
            "Enter Your Choices: rock\n",
            "Computer :1\n",
            "Your score: 0\n",
            "Enter Your Choices: paper\n",
            "Your score: 1\n",
            "Computer :1\n",
            "Enter Your Choices: scissor\n",
            "Computer :2\n",
            "Your score: 1\n",
            "Computer has won the game!\n"
          ]
        }
      ]
    },
    {
      "cell_type": "code",
      "source": [
        "def assign_sections(sections, *student_names):\n",
        "    section_dict = {}\n",
        "\n",
        "    for section in sections:\n",
        "      section_dict[section] = []\n",
        "\n",
        "\n",
        "    for name in student_names:\n",
        "      ascii_sum = 0\n",
        "        # Calculate the sum of ASCII values of characters in the name\n",
        "      for char in last_name:\n",
        "          ascii_sum += ord(char)\n",
        "\n",
        "        # Use modulo operation to determine the section\n",
        "          section_index = ascii_sum % len(sections)\n",
        "\n",
        "        # Assign the student to the corresponding section\n",
        "          section = sections[section_index]\n",
        "          section_dict[section].append(name)\n",
        "\n",
        "    return section_dict\n",
        "\n",
        "# Example usage:\n",
        "sections = 'ABCDE'\n",
        "student_names = ['Alice', 'Bob', 'Charlie', 'David', 'Eve', 'Frank', 'Grace']\n",
        "assigned_sections = assign_sections(sections, *student_names)\n",
        "print(assigned_sections)"
      ],
      "metadata": {
        "colab": {
          "base_uri": "https://localhost:8080/"
        },
        "id": "khDh59gIBJxI",
        "outputId": "7e440a9b-a525-4186-b5df-94f86dfefbf9"
      },
      "execution_count": null,
      "outputs": [
        {
          "output_type": "stream",
          "name": "stdout",
          "text": [
            "{'A': ['Alice', 'Alice', 'Bob', 'Bob', 'Charlie', 'Charlie', 'David', 'David', 'Eve', 'Eve', 'Frank', 'Frank', 'Grace', 'Grace'], 'B': [], 'C': [], 'D': ['Alice', 'Bob', 'Charlie', 'David', 'Eve', 'Frank', 'Grace'], 'E': ['Alice', 'Bob', 'Charlie', 'David', 'Eve', 'Frank', 'Grace']}\n"
          ]
        }
      ]
    }
  ]
}