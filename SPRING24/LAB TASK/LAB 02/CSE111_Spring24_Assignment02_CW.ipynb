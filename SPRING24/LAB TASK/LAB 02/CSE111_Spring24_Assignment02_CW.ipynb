{
  "nbformat": 4,
  "nbformat_minor": 0,
  "metadata": {
    "colab": {
      "provenance": []
    },
    "kernelspec": {
      "name": "python3",
      "display_name": "Python 3"
    },
    "language_info": {
      "name": "python"
    }
  },
  "cells": [
    {
      "cell_type": "code",
      "execution_count": null,
      "metadata": {
        "id": "X7KLlX5AFZnr",
        "colab": {
          "base_uri": "https://localhost:8080/"
        },
        "outputId": "4e6881c4-4f02-44cd-f6c5-d57be5cddb37"
      },
      "outputs": [
        {
          "output_type": "stream",
          "name": "stdout",
          "text": [
            "31.3\n",
            "Score is 31.346938775510203. You are obese\n"
          ]
        }
      ],
      "source": [
        "#ASSIGNMENT_02\n",
        "#TASK_01\n",
        "\n",
        "def AmiKenoMota(height, weight):\n",
        "\n",
        "  m = height/100\n",
        "  m2 = m**2\n",
        "  bmi = (weight/m2)\n",
        "  print(\"%.1f\" % bmi)\n",
        "\n",
        "\n",
        "\n",
        "\n",
        "  if bmi < 18.5:\n",
        "    return (f\"Score is {bmi}. You are underweight\")\n",
        "  if 18.5 <= bmi <=24.5 :\n",
        "    return (f\"Score is {bmi}. You are normal\")\n",
        "  if 25 <= bmi <= 30:\n",
        "    return (f\"Score is {bmi}. You are overweight\")\n",
        "  if bmi > 30:\n",
        "    return (f\"Score is {bmi}. You are obese\")\n",
        "print(AmiKenoMota (175,96))\n",
        "\n",
        "\n"
      ]
    },
    {
      "cell_type": "code",
      "source": [
        "#TASk_02\n",
        "def foodpanda(menu, place=\"Moakhali\"):\n",
        "    if menu==\"BBQ Chicken Cheese Burger\":\n",
        "        price=250\n",
        "    elif menu==\"Beef Burger\":\n",
        "        price=170\n",
        "    elif menu==\"Naga Drums\":\n",
        "        price=200\n",
        "\n",
        "    num=price+price*.08\n",
        "    if place!=\"Moakhali\":\n",
        "        total=num+60\n",
        "    else:\n",
        "        total=num+40\n",
        "    print(total)\n",
        "\n",
        "a=input(\"Enter food name: \")\n",
        "b=input(\"Enter location : \")\n",
        "\n",
        "foodpanda(a,b)"
      ],
      "metadata": {
        "id": "D2DsFOk4Ia2a",
        "colab": {
          "base_uri": "https://localhost:8080/"
        },
        "outputId": "ead0426a-466b-482f-b3d3-c577fc4c3253"
      },
      "execution_count": null,
      "outputs": [
        {
          "output_type": "stream",
          "name": "stdout",
          "text": [
            "Enter food name: Beef Burger\n",
            "Enter location : Moakhali\n",
            "223.6\n"
          ]
        }
      ]
    },
    {
      "cell_type": "code",
      "source": [
        "#TASK_03\n",
        "def replace_domain(address,new,old=\"\"):\n",
        "    n=len(old)\n",
        "    #address=address0.strip(\"''\")\n",
        "    empty_string=\"\"\n",
        "    if old==\"\":\n",
        "        empty_string+=address\n",
        "        print(f\"Changed: {empty_string}\")\n",
        "    else:\n",
        "        temp=address.split(\"@\")\n",
        "        empty_string+=temp[0]+\"@\"+new.strip()\n",
        "        print(empty_string)\n",
        "\n",
        "\n",
        "N1=input()\n",
        "N2=[x for x in N1.strip(\"()\").split(\",\")]\n",
        "\n",
        "for i in N2:\n",
        "    if len(N2)==2:\n",
        "        a,b=N2\n",
        "        c=\"\"\n",
        "    elif len(N2)==3:\n",
        "        a,b,c=N2\n",
        "\n",
        "replace_domain(a,b,c)"
      ],
      "metadata": {
        "id": "dMzoOEyYIeUh",
        "colab": {
          "base_uri": "https://localhost:8080/"
        },
        "outputId": "f7fe644a-eb8f-4f74-cdd4-7c22fc7f2d7c"
      },
      "execution_count": null,
      "outputs": [
        {
          "output_type": "stream",
          "name": "stdout",
          "text": [
            "alice@kaaj.com,sheba.xyz,kaaj.com\n",
            "alice@sheba.xyz\n"
          ]
        }
      ]
    },
    {
      "cell_type": "code",
      "source": [
        "#TASK_04\n",
        "def palindrome(x):\n",
        "  new = \"\"\n",
        "  for i in x:\n",
        "    if i != \" \":\n",
        "      new += i\n",
        "  l = 0\n",
        "  r = len(new)-1\n",
        "  while l<r:\n",
        "    if new[l] != new[r]:\n",
        "      return False\n",
        "    l += 1\n",
        "    r -= 1\n",
        "  return True\n",
        "s = input()\n",
        "if palindrome (s):\n",
        "  print(\"Palindrome\")\n",
        "else:\n",
        "  print(\"Not Palindrome\")"
      ],
      "metadata": {
        "colab": {
          "base_uri": "https://localhost:8080/"
        },
        "id": "zDPSN1yYNgOB",
        "outputId": "2307fb74-3333-4663-c9d6-929d8bb56bb6"
      },
      "execution_count": null,
      "outputs": [
        {
          "output_type": "stream",
          "name": "stdout",
          "text": [
            "nurses run\n",
            "Palindrome\n"
          ]
        }
      ]
    },
    {
      "cell_type": "code",
      "source": [
        "#TASK_05\n",
        "def y_m_d_calc(num_day) :\n",
        "    num_year = num_day // 365\n",
        "    num_mon = (num_day - num_year * 365 ) // 30\n",
        "    num_rem_day = (num_day - num_year * 365 - num_mon * 30)\n",
        "    return (f'{num_year} years , {num_mon} months and {num_rem_day} days')\n",
        "\n",
        "a = int(input('Enter number of Days : '))\n",
        "b = y_m_d_calc(a)\n",
        "print(b)"
      ],
      "metadata": {
        "colab": {
          "base_uri": "https://localhost:8080/"
        },
        "id": "qqmyhx9JtmHH",
        "outputId": "d22b6b50-6fd1-47ef-b528-8d7338b39be4"
      },
      "execution_count": 1,
      "outputs": [
        {
          "output_type": "stream",
          "name": "stdout",
          "text": [
            "Enter number of Days : 4320\n",
            "11 years , 10 months and 5 days\n"
          ]
        }
      ]
    },
    {
      "cell_type": "code",
      "source": [
        "#TASK06\n",
        "def Capitalization(string) :\n",
        "    ns = ''\n",
        "    index = 0\n",
        "    while index < len(string) :\n",
        "        b = string[index]\n",
        "        if index == 0 :\n",
        "            ns += string[index].upper()\n",
        "            index += 1\n",
        "        elif index == len(string)-1 :\n",
        "            ns += string[index]\n",
        "            break\n",
        "        elif string[index] == 'i' :\n",
        "            if string[index-1] ==\" \" and string[index+1] == ' ' :\n",
        "                ns += string[index].upper()\n",
        "            else :\n",
        "                ns += string[index]\n",
        "            index += 1\n",
        "        elif string[index] == '.' or string[index] == '?' :\n",
        "            if string[index] =='.' :\n",
        "                ns += '.'\n",
        "                ns += ' '\n",
        "                ns += string[index+2].upper()\n",
        "                index += 3\n",
        "            elif string[index] == '?' :\n",
        "                ns += '?'\n",
        "                ns += ' '\n",
        "                ns += string[index+2].upper()\n",
        "                index += 3\n",
        "            else :\n",
        "                pass\n",
        "        else :\n",
        "            ns += string[index]\n",
        "            index += 1\n",
        "    return ns\n",
        "a = \"my favourite animal is a dog. a dog has sharp teeth so that it can eat flesh very easily. do you know my pet dog's name? i love my pet very much.\"\n",
        "cap_a = Capitalization(a)\n",
        "print(cap_a)\n",
        "b = \"my name is Monowar. do you what my surname is? it's Husain \"\n",
        "cap_b = Capitalization(b)\n",
        "print(cap_b)"
      ],
      "metadata": {
        "colab": {
          "base_uri": "https://localhost:8080/"
        },
        "id": "lB-ptHjJty1E",
        "outputId": "6c3edb5f-5300-4bd1-fb31-15d1743d69c3"
      },
      "execution_count": 5,
      "outputs": [
        {
          "output_type": "stream",
          "name": "stdout",
          "text": [
            "My favourite animal is a dog. A dog has sharp teeth so that it can eat flesh very easily. Do you know my pet dog's name? I love my pet very much.\n",
            "My name is monowar. Do you what my surname is? It's husain \n"
          ]
        }
      ]
    }
  ]
}