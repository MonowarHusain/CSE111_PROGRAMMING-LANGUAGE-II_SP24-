{
  "nbformat": 4,
  "nbformat_minor": 0,
  "metadata": {
    "colab": {
      "provenance": []
    },
    "kernelspec": {
      "name": "python3",
      "display_name": "Python 3"
    },
    "language_info": {
      "name": "python"
    }
  },
  "cells": [
    {
      "cell_type": "code",
      "execution_count": null,
      "metadata": {
        "id": "D7BNOOBoHhIm",
        "colab": {
          "base_uri": "https://localhost:8080/"
        },
        "outputId": "88421090-6743-4717-946b-5ab862087b2c"
      },
      "outputs": [
        {
          "output_type": "stream",
          "name": "stdout",
          "text": [
            "=====================================\n",
            "User Name: Bilbo\n",
            "Balance: 0\n",
            "Account Type: Savings\n",
            "=====================================\n",
            "User Name: Frodo\n",
            "Balance: 0\n",
            "Account Type: Business\n",
            "=====================================\n"
          ]
        }
      ],
      "source": [
        "#TASK_01\n",
        "\n",
        "class BankAccount:\n",
        "  def __init__(self,user_name,account_type):\n",
        "    self.user_name = user_name\n",
        "    self.account_type = account_type\n",
        "    self.balance = 0\n",
        "\n",
        "account1 = BankAccount(\"Bilbo\", \"Savings\")\n",
        "print(\"=====================================\")\n",
        "print(f\"User Name: {account1.user_name}\")\n",
        "print(f\"Balance: {account1.balance}\")\n",
        "print(f\"Account Type:\", account1.account_type)\n",
        "print(\"=====================================\")\n",
        "account2 = BankAccount(\"Frodo\", \"Business\")\n",
        "print(f\"User Name: {account2.user_name}\")\n",
        "print(f\"Balance: {account2.balance}\")\n",
        "print(f\"Account Type: {account2.account_type}\")\n",
        "print(\"=====================================\")"
      ]
    },
    {
      "cell_type": "code",
      "source": [
        "#TASK_02\n",
        "\n",
        "class MangoTree:\n",
        "  def __init__(self,variety):\n",
        "    self.variety = variety\n",
        "    self.height = 1\n",
        "    self.number_of_mangoes = 0\n",
        "\n",
        "mangoTree1= MangoTree(\"Gopalbhog\")\n",
        "print(\"=====================================\")\n",
        "print(\"Mango Tree Details:\")\n",
        "print(f\"Variety: {mangoTree1.variety}\")\n",
        "print(f\"Height: {mangoTree1.height} meter(s)\")\n",
        "print(f\"Number of mangoes on the tree: {mangoTree1.number_of_mangoes}\")\n",
        "print(\"=====================================\")\n",
        "mangoTree2= MangoTree(\"Amrapali\")\n",
        "print(\"Mango Tree Details:\")\n",
        "print(f\"Variety: {mangoTree2.variety}\")\n",
        "print(f\"Height: {mangoTree2.height} meter(s)\")\n",
        "print(f\"Number of mangoes on the tree: {mangoTree2.number_of_mangoes}\")\n",
        "print(\"=====================================\")\n"
      ],
      "metadata": {
        "id": "_FewqKsCHtXM",
        "colab": {
          "base_uri": "https://localhost:8080/"
        },
        "outputId": "8bc3372b-6b73-4387-cba2-a9f5381964ee"
      },
      "execution_count": null,
      "outputs": [
        {
          "output_type": "stream",
          "name": "stdout",
          "text": [
            "=====================================\n",
            "Mango Tree Details:\n",
            "Variety: Gopalbhog\n",
            "Height: 1 meter(s)\n",
            "Number of mangoes on the tree: 0\n",
            "=====================================\n",
            "Mango Tree Details:\n",
            "Variety: Amrapali\n",
            "Height: 1 meter(s)\n",
            "Number of mangoes on the tree: 0\n",
            "=====================================\n"
          ]
        }
      ]
    },
    {
      "cell_type": "code",
      "source": [
        "#TASK03\n",
        "class Contacts :\n",
        "    def __init__(self , nam  , num) :\n",
        "        self.contactDict = {}\n",
        "        if len(nam) != len(num) :\n",
        "            print(f'Contacts cannot be saved . Length Mismatch !')\n",
        "        else :\n",
        "            print('Contact saved successfully')\n",
        "            for index in range(len(nam)) :\n",
        "                self.contactDict[nam[index]] = num[index]\n",
        "\n",
        "names = [\"Emergency\", \"Father\", \"Bestu\"]\n",
        "numbers = [\"999\", \"01xx23\", \"01xx87\", \"01xx65\", \"01xx43\"]\n",
        "m1 = Contacts(names, numbers)\n",
        "print(\"Saved Contacts:\", m1.contactDict)\n",
        "print(\"---------------------------------------------\")\n",
        "names.append(\"Mother\")\n",
        "numbers.pop()\n",
        "m2 = Contacts(names, numbers)\n",
        "print(\"Saved Contacts:\", m2.contactDict)"
      ],
      "metadata": {
        "id": "xxOE_tS8U_Db",
        "colab": {
          "base_uri": "https://localhost:8080/"
        },
        "outputId": "bf8cf4e8-3a23-4452-c7c2-aedf75b56803"
      },
      "execution_count": null,
      "outputs": [
        {
          "output_type": "stream",
          "name": "stdout",
          "text": [
            "Contacts cannot be saved . Length Mismatch !\n",
            "Saved Contacts: {}\n",
            "---------------------------------------------\n",
            "Contact saved successfully\n",
            "Saved Contacts: {'Emergency': '999', 'Father': '01xx23', 'Bestu': '01xx87', 'Mother': '01xx65'}\n"
          ]
        }
      ]
    },
    {
      "cell_type": "code",
      "source": [
        "#TASK04\n",
        "class Student :\n",
        "    def __init__(self , nam , cg , taken ) :\n",
        "        self.name = nam\n",
        "        self.cgpa = cg\n",
        "\n",
        "        if cg < 2.00 :\n",
        "            self.student_status = 'Probation'\n",
        "            if taken > 1 and taken <= 2 :\n",
        "                print(f'Study Hard this time , {self.name}')\n",
        "                self.advising_status = 'Approved'\n",
        "                self.courses_taken = taken\n",
        "            else :\n",
        "                print(f'Sorry, {self.name} , you are on {self.student_status} and cannot take more than 2 courses')\n",
        "                self.advising_status = 'Denied'\n",
        "                self.courses_taken = 0\n",
        "        else :\n",
        "            self.student_status = 'Regular'\n",
        "            if taken >= 3 and taken <= 5 :\n",
        "                print(f'All the best {self.name} , for the upcoming semester')\n",
        "                self.advising_status = 'Approved'\n",
        "                self.courses_taken = taken\n",
        "            else :\n",
        "                print(f'Hello {self.name} , You are a {self.student_status} student and have to take between 3 to 5 courses.')\n",
        "                self.advising_status = 'Denied'\n",
        "                self.courses_taken = 0\n",
        "\n",
        "\n",
        "\n",
        "s1 = Student(\"Clark\", 3.45, 4)\n",
        "print(f\"Name: {s1.name}\\nCGPA: {s1.cgpa}\\nCourses Taken: {s1.courses_taken}\")\n",
        "print(f\"Student Status: {s1.student_status}\\nAdvising Status: {s1.advising_status}\")\n",
        "print(\"--------------------------------------------------------------------------------\")\n",
        "s2 = Student(\"Barry\", 1.93, 2)\n",
        "print(f\"Name: {s2.name}\")\n",
        "print(f\"Student Status: {s2.student_status}\\nAdvising Status: {s2.advising_status}\")\n",
        "print(\"--------------------------------------------------------------------------------\")\n",
        "s3 = Student(\"Diana\", 2.91, 2)\n",
        "print(f\"Advising Status: {s3.advising_status}\\nCourses Taken: {s3.courses_taken}\")\n",
        "print(\"--------------------------------------------------------------------------------\")\n",
        "s4 = Student(\"Bruce\", 1.52, 5)\n",
        "print(f\"Advising Status: {s4.advising_status}\\nCourses Taken: {s4.courses_taken}\")\n",
        "print(\"--------------------------------------------------------------------------------\")\n",
        "s5 = Student(\"Mono\", 0.00, 5)\n",
        "print(f\"Advising Status: {s5.advising_status}\\nCourses Taken: {s5.courses_taken}\")"
      ],
      "metadata": {
        "colab": {
          "base_uri": "https://localhost:8080/"
        },
        "id": "yY-Uf7OQzrIv",
        "outputId": "efc91812-c413-47f2-d697-47746418f0e3"
      },
      "execution_count": null,
      "outputs": [
        {
          "output_type": "stream",
          "name": "stdout",
          "text": [
            "All the best Clark , for the upcoming semester\n",
            "Name: Clark\n",
            "CGPA: 3.45\n",
            "Courses Taken: 4\n",
            "Student Status: Regular\n",
            "Advising Status: Approved\n",
            "--------------------------------------------------------------------------------\n",
            "Study Hard this time , Barry\n",
            "Name: Barry\n",
            "Student Status: Probation\n",
            "Advising Status: Approved\n",
            "--------------------------------------------------------------------------------\n",
            "Hello Diana , You are a Regular student and have to take between 3 to 5 courses.\n",
            "Advising Status: Denied\n",
            "Courses Taken: 0\n",
            "--------------------------------------------------------------------------------\n",
            "Sorry, Bruce , you are on Probation and cannot take more than 2 courses\n",
            "Advising Status: Denied\n",
            "Courses Taken: 0\n",
            "--------------------------------------------------------------------------------\n",
            "Sorry, Mono , you are on Probation and cannot take more than 2 courses\n",
            "Advising Status: Denied\n",
            "Courses Taken: 0\n"
          ]
        }
      ]
    },
    {
      "cell_type": "code",
      "source": [
        "#TASK05\n",
        "class CellPackage :\n",
        "    def __init__(self , pric , data , min , smS , cs_bk , val) :\n",
        "        self.talk_time  = min\n",
        "        temp_data = ''\n",
        "        inte = '1234567890'\n",
        "        for index in range(len(data)) :\n",
        "            if data[index] in inte :\n",
        "                temp_data += data[index]\n",
        "            else :\n",
        "                pass\n",
        "        temp_data = int(temp_data)\n",
        "        self.data = temp_data*1024\n",
        "        self.price = pric\n",
        "        self.messages = smS\n",
        "        self.validity = val\n",
        "        per = ''\n",
        "        for index2 in range(len(cs_bk)) :\n",
        "            if cs_bk[index2] in inte :\n",
        "                per += cs_bk[index2]\n",
        "            else :\n",
        "                pass\n",
        "        per = int(per)\n",
        "        self.cashback = pric * (per/100)\n",
        "\n",
        "\n",
        "# Driver Code\n",
        "\n",
        "pkg = CellPackage(150, '6 GB', 99, 20, '7%', 7)\n",
        "print('===========Package 1=============')\n",
        "# Subtask 2: Check each attribute and print\n",
        "if pkg.data!=0:\n",
        "  print(f\"Data = {pkg.data} MB\")\n",
        "if pkg.talk_time!=0:\n",
        "  print(f\"Talktime = {pkg.talk_time} Minutes\")\n",
        "if pkg.messages!=0:\n",
        "  print(f\"SMS/MMS = {pkg.messages}\")\n",
        "if pkg.validity!=0:\n",
        "  print(f\"Validity = {pkg.validity} Days\")\n",
        "if pkg.price!=0:\n",
        "  print(f\"--> Price = {pkg.price} tk\")\n",
        "if pkg.cashback!=0:\n",
        "  print(f\"Buy now to get {pkg.cashback} tk cashback.\")\n",
        "pkg2 = CellPackage(700, '35 GB', 700, 0, '10%', 30)\n",
        "print('===========Package 2=============')\n",
        "# Subtask 3: Check each attribute and print\n",
        "if pkg2.data!=0:\n",
        "  print(f\"Data = {pkg2.data} MB\")\n",
        "if pkg2.talk_time!=0:\n",
        "  print(f\"Talktime = {pkg2.talk_time} Minutes\")\n",
        "if pkg2.messages!=0:\n",
        "  print(f\"SMS/MMS = {pkg2.messages}\")\n",
        "if pkg2.validity!=0:\n",
        "  print(f\"Validity = {pkg2.validity} Days\")\n",
        "if pkg2.price!=0:\n",
        "  print(f\"--> Price = {pkg2.price} tk\")\n",
        "if pkg2.cashback!=0:\n",
        "  print(f\"Buy now to get {pkg2.cashback} tk cashback.\")\n",
        "pkg4 = CellPackage(120, '0 GB', 190, 0, '0%', 10)\n",
        "print('============Package 3============')\n",
        "# Subtask 4: Check each attribute and print\n",
        "if pkg4.data!=0:\n",
        "  print(f\"Data = {pkg4.data} MB\")\n",
        "if pkg4.talk_time!=0:\n",
        "  print(f\"Talktime = {pkg4.talk_time} Minutes\")\n",
        "if pkg4.messages!=0:\n",
        "  print(f\"SMS/MMS = {pkg4.messages}\")\n",
        "if pkg4.validity!=0:\n",
        "  print(f\"Validity = {pkg4.validity} Days\")\n",
        "if pkg4.price!=0:\n",
        "  print(f\"--> Price = {pkg4.price} tk\")\n",
        "if pkg4.cashback!=0:\n",
        "  print(f\"Buy now to get {pkg4.cashback} tk cashback.\")"
      ],
      "metadata": {
        "colab": {
          "base_uri": "https://localhost:8080/"
        },
        "id": "_85rBHif3nKf",
        "outputId": "db876150-0031-4266-c22d-8e0cec297e94"
      },
      "execution_count": 14,
      "outputs": [
        {
          "output_type": "stream",
          "name": "stdout",
          "text": [
            "===========Package 1=============\n",
            "Data = 6144 MB\n",
            "Talktime = 99 Minutes\n",
            "SMS/MMS = 20\n",
            "Validity = 7 Days\n",
            "--> Price = 150 tk\n",
            "Buy now to get 10.500000000000002 tk cashback.\n",
            "===========Package 2=============\n",
            "Data = 35840 MB\n",
            "Talktime = 700 Minutes\n",
            "Validity = 30 Days\n",
            "--> Price = 700 tk\n",
            "Buy now to get 70.0 tk cashback.\n",
            "============Package 3============\n",
            "Talktime = 190 Minutes\n",
            "Validity = 10 Days\n",
            "--> Price = 120 tk\n"
          ]
        }
      ]
    }
  ]
}