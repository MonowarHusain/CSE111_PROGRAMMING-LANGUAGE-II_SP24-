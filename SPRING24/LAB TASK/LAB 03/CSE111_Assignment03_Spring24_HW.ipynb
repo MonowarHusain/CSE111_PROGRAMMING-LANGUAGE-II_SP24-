{
  "nbformat": 4,
  "nbformat_minor": 0,
  "metadata": {
    "colab": {
      "provenance": []
    },
    "kernelspec": {
      "name": "python3",
      "display_name": "Python 3"
    },
    "language_info": {
      "name": "python"
    }
  },
  "cells": [
    {
      "cell_type": "code",
      "execution_count": 3,
      "metadata": {
        "colab": {
          "base_uri": "https://localhost:8080/"
        },
        "id": "KHiG66XZOOj5",
        "outputId": "717569ae-7758-4659-c322-a933a2cd05fc"
      },
      "outputs": [
        {
          "output_type": "stream",
          "name": "stdout",
          "text": [
            "Checking the book.\n",
            "Ferguson wrote the book 'The Act'.\n",
            "This book was published in 1924.\n",
            "This book is Rejected. The book is not antique enough.\n",
            "-------------------------------------\n",
            "Checking the book.\n",
            "Nolan wrote the book 'Flame'.\n",
            "This book was published in 1932.\n",
            "This book is Rejected. The book is not antique enough.\n",
            "-------------------------------------\n",
            "Checking the book.\n",
            "Alfred wrote the book 'Norms'.\n",
            "This book was published in 1832.\n",
            "This book is Accepted. The book is stored on floor: 0.\n",
            "-------------------------------------\n",
            "Checking the book.\n",
            "Samson wrote the book 'Apex'.\n",
            "This book was published in 1923.\n",
            "This book is Accepted. The book is stored on floor: 0.\n",
            "-------------------------------------\n",
            "Checking the book.\n",
            "Eden wrote the book 'Habitat'.\n",
            "This book was published in 1723.\n",
            "This book is Accepted. The book is stored on floor: 1.\n",
            "-------------------------------------\n",
            "Checking the book.\n",
            "Menez wrote the book 'Apocalypto'.\n",
            "This book was published in 1603.\n",
            "This book is Accepted. The book is stored on floor: 2.\n"
          ]
        }
      ],
      "source": [
        "#ASSIGNMENT_03\n",
        "#TASK_01\n",
        "import datetime\n",
        "\n",
        "class Book :\n",
        "  def __init__ (self , auth , nam , pub_year) :\n",
        "    print(f'Checking the book.')\n",
        "    self.author = nam\n",
        "    self.name = auth\n",
        "    self.year_of_publication = pub_year\n",
        "    import datetime\n",
        "    today = datetime.date.today()\n",
        "    year = today.year\n",
        "    time_passed = year - pub_year\n",
        "    if time_passed > 100  :\n",
        "        if time_passed <= 200 :\n",
        "           self.status = 'Accepted. The book is stored on floor: 0.'\n",
        "        elif time_passed > 200 and time_passed <= 400 :\n",
        "           self.status = 'Accepted. The book is stored on floor: 1.'\n",
        "        else :\n",
        "           self.status = 'Accepted. The book is stored on floor: 2.'\n",
        "    else :\n",
        "      self.status = 'Rejected. The book is not antique enough.'\n",
        "\n",
        "\n",
        "\n",
        "book1= Book('The Act', 'Ferguson', 1924)\n",
        "print(f\"{book1.author} wrote the book '{book1.name}'.\")\n",
        "print(f\"This book was published in {book1.year_of_publication}.\")\n",
        "print(f\"This book is {book1.status}\")\n",
        "print(\"-------------------------------------\")\n",
        "book2= Book('Flame', 'Nolan', 1932)\n",
        "print(f\"{book2.author} wrote the book '{book2.name}'.\")\n",
        "print(f\"This book was published in {book2.year_of_publication}.\")\n",
        "print(f\"This book is {book2.status}\")\n",
        "print(\"-------------------------------------\")\n",
        "book3= Book('Norms', 'Alfred', 1832)\n",
        "print(f\"{book3.author} wrote the book '{book3.name}'.\")\n",
        "print(f\"This book was published in {book3.year_of_publication}.\")\n",
        "print(f\"This book is {book3.status}\")\n",
        "print(\"-------------------------------------\")\n",
        "book4= Book('Apex', 'Samson', 1923)\n",
        "print(f\"{book4.author} wrote the book '{book4.name}'.\")\n",
        "print(f\"This book was published in {book4.year_of_publication}.\")\n",
        "print(f\"This book is {book4.status}\")\n",
        "print(\"-------------------------------------\")\n",
        "book5= Book('Habitat', 'Eden', 1723)\n",
        "print(f\"{book5.author} wrote the book '{book5.name}'.\")\n",
        "print(f\"This book was published in {book5.year_of_publication}.\")\n",
        "print(f\"This book is {book5.status}\")\n",
        "print(\"-------------------------------------\")\n",
        "book6= Book('Apocalypto', 'Menez', 1603)\n",
        "print(f\"{book6.author} wrote the book '{book6.name}'.\")\n",
        "print(f\"This book was published in {book6.year_of_publication}.\")\n",
        "print(f\"This book is {book6.status}\")\n",
        "\n"
      ]
    },
    {
      "cell_type": "code",
      "source": [
        "#TASK_02\n",
        "class Pokemon:\n",
        "    def __init__(self,pokemon_1, pokemon_2, power_1, power_2, damage_rate):\n",
        "        self.pokemon1_name = pokemon_1\n",
        "        self.pokemon2_name = pokemon_2\n",
        "        self.pokemon1_power = power_1\n",
        "        self.pokemon2_power = power_2\n",
        "        self.damage_rate = damage_rate\n",
        "\n",
        "team_pika = Pokemon('pikachu', 'charmander', 90, 60, 10)\n",
        "print('=======Team 1=======')\n",
        "print('Pokemon 1:',team_pika.pokemon1_name, team_pika.pokemon1_power)\n",
        "print('Pokemon 2:',team_pika.pokemon2_name, team_pika.pokemon2_power)\n",
        "pika_combined_power = (team_pika.pokemon1_power + team_pika.pokemon2_power) * team_pika.damage_rate\n",
        "print('Combined Power:', pika_combined_power)\n",
        "team_mono = Pokemon('bulbasaur','squirtle', 80, 70, 9)\n",
        "print('=======Team 2=======')\n",
        "print('Pokemon 1:',team_mono.pokemon1_name, team_mono.pokemon1_power)\n",
        "print('Pokemon 2:',team_mono.pokemon2_name, team_mono.pokemon2_power)\n",
        "mono_combined_power = (team_mono.pokemon1_power + team_mono.pokemon2_power) * team_mono.damage_rate\n",
        "print('Combined Power:', mono_combined_power)"
      ],
      "metadata": {
        "colab": {
          "base_uri": "https://localhost:8080/"
        },
        "id": "1jKs2B6ml5N6",
        "outputId": "545470e0-4e84-4c14-da94-191781846061"
      },
      "execution_count": 6,
      "outputs": [
        {
          "output_type": "stream",
          "name": "stdout",
          "text": [
            "=======Team 1=======\n",
            "Pokemon 1: pikachu 90\n",
            "Pokemon 2: charmander 60\n",
            "Combined Power: 1500\n",
            "=======Team 2=======\n",
            "Pokemon 1: bulbasaur 80\n",
            "Pokemon 2: squirtle 70\n",
            "Combined Power: 1350\n"
          ]
        }
      ]
    },
    {
      "cell_type": "code",
      "source": [
        "#TASK_03\n",
        "class box:\n",
        "\n",
        "    def __init__(self, N):\n",
        "        n=list(N)\n",
        "        self.height = n[0]\n",
        "        self.width = n[1]\n",
        "        self.breadth = n[2]\n",
        "        print(\"Crating a Box!\")\n",
        "        print(f'Volume of the box is {self.height * self.width * self.breadth} cubic units.')\n",
        "\n",
        "print(\"Box 1\")\n",
        "b1 = box([10,10,10])\n",
        "print(\"=========================\")\n",
        "print(\"Height:\", b1.height)\n",
        "print(\"Width:\", b1.width)\n",
        "print(\"Breadth:\", b1.breadth)\n",
        "volume = b1.height * b1.width * b1.breadth\n",
        "print(f\"Volume of the box is {volume} cubic units.\")\n",
        "print(\"-------------------------\")\n",
        "print(\"Box 2\")\n",
        "b2 = box((30,10,10))\n",
        "print(\"=========================\")\n",
        "print(\"Height:\", b2.height)\n",
        "print(\"Width:\", b2.width)\n",
        "print(\"Breadth:\", b2.breadth)\n",
        "volume = b2.height * b2.width * b2.breadth\n",
        "print(f\"Volume of the box is {volume} cubic units.\")\n",
        "b2.height = 300\n",
        "print(\"Updating Box 2!\")\n",
        "print(\"Height:\", b2.height)\n",
        "print(\"Width:\", b2.width)\n",
        "print(\"Breadth:\", b2.breadth)\n",
        "volume = b2.height * b2.width * b2.breadth\n",
        "print(f\"Volume of the box is {volume} cubic units.\")\n",
        "print(\"-------------------------\")\n",
        "print(\"Box 3\")\n",
        "b3 = b2\n",
        "print(\"Height:\", b3.height)\n",
        "print(\"Width:\", b3.width)\n",
        "print(\"Breadth:\", b3.breadth)\n",
        "volume = b3.height * b3.width * b3.breadth\n",
        "print(f\"Volume of the box is {volume} cubic units.\")\n"
      ],
      "metadata": {
        "colab": {
          "base_uri": "https://localhost:8080/"
        },
        "id": "X0TjYi7il5dE",
        "outputId": "dda7e3ea-e79d-447f-bda2-1e23b09ce29c"
      },
      "execution_count": null,
      "outputs": [
        {
          "output_type": "stream",
          "name": "stdout",
          "text": [
            "Box 1\n",
            "Crating a Box!\n",
            "Volume of the box is 1000 cubic units.\n",
            "=========================\n",
            "Height: 10\n",
            "Width: 10\n",
            "Breadth: 10\n",
            "Volume of the box is 1000 cubic units.\n",
            "-------------------------\n",
            "Box 2\n",
            "Crating a Box!\n",
            "Volume of the box is 3000 cubic units.\n",
            "=========================\n",
            "Height: 30\n",
            "Width: 10\n",
            "Breadth: 10\n",
            "Volume of the box is 3000 cubic units.\n",
            "Updating Box 2!\n",
            "Height: 300\n",
            "Width: 10\n",
            "Breadth: 10\n",
            "Volume of the box is 30000 cubic units.\n",
            "-------------------------\n",
            "Box 3\n",
            "Height: 300\n",
            "Width: 10\n",
            "Breadth: 10\n",
            "Volume of the box is 30000 cubic units.\n"
          ]
        }
      ]
    },
    {
      "cell_type": "code",
      "source": [
        "#TASK_04\n",
        "class Order:\n",
        "    def __init__(self, menu, order_str):\n",
        "        self.items = []\n",
        "        self.menu = menu\n",
        "        self.parse_order(order_str)\n",
        "\n",
        "    def parse_order(self, order_str):\n",
        "        order_list = order_str.split(\", \")\n",
        "        for item in order_list:\n",
        "            item_name, quantity = item.split(\"-\")\n",
        "            price = self.menu[item_name] * int(quantity)\n",
        "            self.items.extend([item_name, int(quantity), price])\n",
        "\n",
        "menu = {\n",
        "    'Chicken_Cheeseburger' : 249,\n",
        "    'Mega_Cheeseburger' : 289,\n",
        "    'Fries' : 139,\n",
        "    'Hot_Wings' : 99,\n",
        "    'Rice_Bowl' : 299,\n",
        "    'Soft_Drinks' : 50\n",
        "}\n",
        "\n",
        "order1 = Order(menu, \"Chicken_Cheeseburger-2, Fries-3, Soft_Drinks-3\")\n",
        "print(order1.items)\n",
        "print()\n",
        "\n",
        "print('-'*35)\n",
        "print('Item           x Quantity :   Price')\n",
        "print('--------------   --------   -------')\n",
        "\n",
        "index = 0\n",
        "total = 0\n",
        "while index < len(order1.items):\n",
        "  item = order1.items[index]\n",
        "  quantity = order1.items[index+1]\n",
        "  price = order1.items[index+2]\n",
        "\n",
        "  print(f'{item:20} x {quantity:2} : {price:7.2f}')\n",
        "  total += price\n",
        "  index += 3 # Going to next item\n",
        "\n",
        "print('-'*35)\n",
        "print(f'Total:                      {total:7.2f}')\n",
        "print('-'*35)\n"
      ],
      "metadata": {
        "colab": {
          "base_uri": "https://localhost:8080/"
        },
        "id": "8EJk5DGil5l-",
        "outputId": "eb2869ec-7ff7-43fa-8702-ea4794896d2a"
      },
      "execution_count": null,
      "outputs": [
        {
          "output_type": "stream",
          "name": "stdout",
          "text": [
            "['Chicken_Cheeseburger', 2, 498, 'Fries', 3, 417, 'Soft_Drinks', 3, 150]\n",
            "\n",
            "-----------------------------------\n",
            "Item           x Quantity :   Price\n",
            "--------------   --------   -------\n",
            "Chicken_Cheeseburger x  2 :  498.00\n",
            "Fries                x  3 :  417.00\n",
            "Soft_Drinks          x  3 :  150.00\n",
            "-----------------------------------\n",
            "Total:                      1065.00\n",
            "-----------------------------------\n"
          ]
        }
      ]
    }
  ]
}