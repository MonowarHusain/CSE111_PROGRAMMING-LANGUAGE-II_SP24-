{
  "nbformat": 4,
  "nbformat_minor": 0,
  "metadata": {
    "colab": {
      "provenance": [],
      "include_colab_link": true
    },
    "kernelspec": {
      "name": "python3",
      "display_name": "Python 3"
    },
    "language_info": {
      "name": "python"
    }
  },
  "cells": [
    {
      "cell_type": "markdown",
      "metadata": {
        "id": "view-in-github",
        "colab_type": "text"
      },
      "source": [
        "<a href=\"https://colab.research.google.com/github/MonowarHusain/CSE111_PROGRAMMING-LANGUAGE-II_SP24-/blob/main/SPRING24/LAB%20TASK/LAB%2001/CSE111%20Lab%20Assignment%201.pdf.ipynb\" target=\"_parent\"><img src=\"https://colab.research.google.com/assets/colab-badge.svg\" alt=\"Open In Colab\"/></a>"
      ]
    },
    {
      "cell_type": "code",
      "execution_count": null,
      "metadata": {
        "colab": {
          "base_uri": "https://localhost:8080/"
        },
        "id": "OwIRnUuUD0Ur",
        "outputId": "485d7cb6-63f0-4160-e90f-e29fc4e7e990"
      },
      "outputs": [
        {
          "output_type": "stream",
          "name": "stdout",
          "text": [
            "10\n",
            "20\n",
            "20\n",
            "30\n",
            "10\n",
            "50\n",
            "90\n",
            "STOP\n",
            " 10 - 2 times\n",
            " 20 - 2 times\n",
            " 30 - 1 times\n",
            " 50 - 1 times\n",
            " 90 - 1 times\n"
          ]
        }
      ],
      "source": [
        "#ASSIGNMENT_01\n",
        "#LIST\n",
        "#TASK_01\n",
        "\n",
        "\n",
        "lst1 = []\n",
        "\n",
        "while True:\n",
        "  n = input()\n",
        "  if n == \"STOP\":\n",
        "    break\n",
        "  else:\n",
        "    lst1.append(n)\n",
        "\n",
        "lst2 = []\n",
        "for i in lst1:\n",
        "  if i not in lst2:\n",
        "    lst2.append(i)\n",
        "for j in lst2:\n",
        "  count = 0\n",
        "\n",
        "  for k in lst1:\n",
        "    if k ==j:\n",
        "      count+=1\n",
        "  print(f\" {j} - {count} times\")"
      ]
    },
    {
      "cell_type": "code",
      "source": [
        "#TASK_02\n",
        "num=int(input(\"Please enter how many list: \"))\n",
        "max=-999999999999999\n",
        "empty_lst=[]\n",
        "\n",
        "for i in range(num):\n",
        "    n=input(\"Please enter list elements using space: \")\n",
        "    lst1=[int(i) for i in n.split(\" \")]\n",
        "    sumation=sum(lst1)\n",
        "    if sumation>=max:\n",
        "        max=sumation\n",
        "        empty_lst=lst1\n",
        "\n",
        "print(max)\n",
        "print(empty_lst)"
      ],
      "metadata": {
        "id": "ofGtQXMxQ2mq",
        "colab": {
          "base_uri": "https://localhost:8080/"
        },
        "outputId": "eb925e8c-1fa8-45a4-b505-25df64482ef3"
      },
      "execution_count": null,
      "outputs": [
        {
          "output_type": "stream",
          "name": "stdout",
          "text": [
            "Please enter how many list: 4\n",
            "Please enter list elements using space: 1 2 3\n",
            "Please enter list elements using space: 4 5 6\n",
            "Please enter list elements using space: 10 11 12\n",
            "Please enter list elements using space: 7 8 9\n",
            "33\n",
            "[10, 11, 12]\n"
          ]
        }
      ]
    },
    {
      "cell_type": "code",
      "source": [
        "#TASK_03\n",
        "n1=input(\"Please give elements of list 1 using space: \")\n",
        "n2=input(\"Please give elemets of list 2 using space: \")\n",
        "\n",
        "lst1=[int(i) for i in n1.split(\" \")]\n",
        "lst2=[int(j) for j in n2.split(\" \")]\n",
        "\n",
        "lst=[]\n",
        "\n",
        "for i in lst1:\n",
        "    for j in lst2:\n",
        "        lst.append(i*j)\n",
        "\n",
        "print(lst)"
      ],
      "metadata": {
        "colab": {
          "base_uri": "https://localhost:8080/"
        },
        "id": "ExAkFarNCHYN",
        "outputId": "c0d4f865-d72c-472e-a5a3-bb3f0b5e200d"
      },
      "execution_count": null,
      "outputs": [
        {
          "output_type": "stream",
          "name": "stdout",
          "text": [
            "Please give elements of list 1 using space: 2 3 6\n",
            "Please give elemets of list 2 using space: 3 4 5\n",
            "[6, 8, 10, 9, 12, 15, 18, 24, 30]\n"
          ]
        }
      ]
    },
    {
      "cell_type": "code",
      "source": [
        "#TASK_04\n",
        "while True:\n",
        "    n=input()\n",
        "    if n==\"STOP\":\n",
        "        break\n",
        "    else:\n",
        "        lst=[int(i) for i in n.split(\" \")]\n",
        "        num=len(lst)\n",
        "        diff=[]\n",
        "        for j in range(num-1):\n",
        "            a=lst[j+1] - lst[j]\n",
        "            diff.append(abs(a))\n",
        "\n",
        "        check=True\n",
        "        for k in range(1,num):\n",
        "            if k not in diff:\n",
        "                check=False\n",
        "            else:\n",
        "                continue\n",
        "\n",
        "        if check==True:\n",
        "            print(\"UB Jumper\")\n",
        "        else:\n",
        "            print(\"Not UB Jumper\")"
      ],
      "metadata": {
        "colab": {
          "base_uri": "https://localhost:8080/"
        },
        "id": "j7n0BRCHoein",
        "outputId": "fb00e14a-d878-4187-b715-75e4afdd889a"
      },
      "execution_count": null,
      "outputs": [
        {
          "name": "stdout",
          "output_type": "stream",
          "text": [
            "1 4 2 3\n",
            "UB Jumper\n",
            "2 1 4 6 10\n",
            "UB Jumper\n",
            "1 4 2 -1 6\n",
            "Not UB Jumper\n",
            "STOP\n"
          ]
        }
      ]
    },
    {
      "cell_type": "code",
      "source": [
        "#TASK_05\n",
        "input_string = input(\"Enter a string containing alphanumeric characters only: \")\n",
        "\n",
        "lowercase_letters = []\n",
        "uppercase_letters = []\n",
        "odd_digits = []\n",
        "even_digits = []\n",
        "\n",
        "for char in input_string:\n",
        "    if 'a' <= char <= 'z':\n",
        "        lowercase_letters.append(char)\n",
        "    elif 'A' <= char <= 'Z':\n",
        "        uppercase_letters.append(char)\n",
        "    elif '0' <= char <= '9':\n",
        "        if int(char) % 2 != 0:\n",
        "            odd_digits.append(char)\n",
        "        else:\n",
        "            even_digits.append(char)\n",
        "\n",
        "lowercase_letters.sort()\n",
        "uppercase_letters.sort()\n",
        "odd_digits.sort()\n",
        "even_digits.sort()\n",
        "\n",
        "sorted_string = ''.join(lowercase_letters + uppercase_letters + odd_digits + even_digits)\n",
        "\n",
        "print(\"Sorted string:\", sorted_string)"
      ],
      "metadata": {
        "colab": {
          "base_uri": "https://localhost:8080/"
        },
        "id": "sTpXl8AgzYpD",
        "outputId": "aac929b6-a70c-47d8-b232-35660ef4c166"
      },
      "execution_count": null,
      "outputs": [
        {
          "output_type": "stream",
          "name": "stdout",
          "text": [
            "Enter a string containing alphanumeric characters only: Bracu1234\n",
            "Sorted string: acruB1324\n"
          ]
        }
      ]
    },
    {
      "cell_type": "code",
      "source": [
        "#TASK_06\n",
        "n=int(input(\"Available students: \"))\n",
        "k=int(input(\"Each need to participare how many times: \"))\n",
        "\n",
        "partlist=input(\"Enter how many times students already participated using space: \")\n",
        "lst=[int(i) for i in partlist.split(\" \")]\n",
        "\n",
        "if len(lst)==n:\n",
        "    count=0\n",
        "    for j in lst:\n",
        "        if (5-j)>=k:\n",
        "            count+=1\n",
        "\n",
        "    a=count//3\n",
        "    print(a)\n"
      ],
      "metadata": {
        "colab": {
          "base_uri": "https://localhost:8080/"
        },
        "id": "ycdFahZ12RtJ",
        "outputId": "f65ce1c5-c86e-4495-b408-33f93f455981"
      },
      "execution_count": null,
      "outputs": [
        {
          "output_type": "stream",
          "name": "stdout",
          "text": [
            "Available students: 5\n",
            "Each need to participare how many times: 2\n",
            "Enter how many times students already participated using space: 0 4 5 1 0\n",
            "1\n"
          ]
        }
      ]
    },
    {
      "cell_type": "code",
      "source": [
        "#DICRIONARY & TUPLE\n",
        "#TASK_01\n",
        "N1=input(\"Please enter first dictionary: \")\n",
        "N2=input(\"Please enter second dictionary: \")\n",
        "\n",
        "def dictionary(n):\n",
        "    dic={}\n",
        "    lst1 = n.split(\",\")\n",
        "    for i in lst1:\n",
        "        k,v = i.split(\":\")\n",
        "        dic[k]=int(v)\n",
        "    return dic\n",
        "\n",
        "dic1=dictionary(N1)\n",
        "dic2=dictionary(N2)\n",
        "\n",
        "new_dic={}\n",
        "for k,v in dic2.items():\n",
        "    if dic1.get(k) == None:\n",
        "        dic1[k] = v\n",
        "    else:\n",
        "        dic1[k] = dic1[k]+v\n",
        "\n",
        "empty_lst=[]\n",
        "for a in dic1:\n",
        "    empty_lst.append(dic1[a])\n",
        "\n",
        "for i in range(len(empty_lst)-1):\n",
        "    for j in range(0,len(empty_lst)-i-1):\n",
        "        if empty_lst[j]>empty_lst[j+1]:\n",
        "            temp=empty_lst[j]\n",
        "            empty_lst[j]=empty_lst[j+1]\n",
        "            empty_lst[j+1]=temp\n",
        "\n",
        "final_lst=[]\n",
        "for j in empty_lst:\n",
        "    if j in final_lst:\n",
        "        continue\n",
        "    else:\n",
        "        final_lst.append(j)\n",
        "\n",
        "print(dic1)\n",
        "print(\"Values: \",tuple(final_lst))\n"
      ],
      "metadata": {
        "colab": {
          "base_uri": "https://localhost:8080/"
        },
        "id": "5fJlBrT-IYnx",
        "outputId": "a22b1bb3-819e-4d44-abe1-264f0e126355"
      },
      "execution_count": null,
      "outputs": [
        {
          "output_type": "stream",
          "name": "stdout",
          "text": [
            "Please enter first dictionary: a: 100, b: 100, c: 200, d: 300\n",
            "Please enter second dictionary: a: 300, b: 200, d: 400, e: 200\n",
            "{'a': 400, ' b': 300, ' c': 200, ' d': 700, ' e': 200}\n",
            "Values:  (200, 300, 400, 700)\n"
          ]
        }
      ]
    },
    {
      "cell_type": "code",
      "source": [
        "#TASK_02\n",
        "lst1=[]\n",
        "print(\"Please enter numbers: \")\n",
        "while True:\n",
        "    N = input()\n",
        "    if N==\"STOP\":\n",
        "        break\n",
        "    else:\n",
        "        lst1.append(N)\n",
        "\n",
        "lst2=[]\n",
        "for i in lst1:\n",
        "    if i not in lst2:\n",
        "        lst2.append(i)\n",
        "\n",
        "dic1={}\n",
        "for j in lst2:\n",
        "    count=0\n",
        "    for k in lst1:\n",
        "        if k==j:\n",
        "            count+=1\n",
        "    string2=\"{} \".format(count)\n",
        "    dic1[int(j)]=string2\n",
        "\n",
        "for k,v in dic1.items():\n",
        "    print(\"{} - {} times\".format(k,v))"
      ],
      "metadata": {
        "colab": {
          "base_uri": "https://localhost:8080/"
        },
        "id": "mPAU8fSa36CS",
        "outputId": "f00de4b9-2981-4580-fa47-b249b96f2f56"
      },
      "execution_count": null,
      "outputs": [
        {
          "output_type": "stream",
          "name": "stdout",
          "text": [
            "Please enter numbers: \n",
            "10\n",
            "20\n",
            "20\n",
            "30\n",
            "10\n",
            "50\n",
            "90\n",
            "STOP\n",
            "10 - 2  times\n",
            "20 - 2  times\n",
            "30 - 1  times\n",
            "50 - 1  times\n",
            "90 - 1  times\n"
          ]
        }
      ]
    },
    {
      "cell_type": "code",
      "source": [
        "#TASK_03\n",
        "newdict = {}\n",
        "n = input()\n",
        "lst1 = n.split(\",\")\n",
        "for i in lst1:\n",
        "    k,v = i.split(\":\")\n",
        "    newdict[k]=v\n",
        "empty_dict = {}\n",
        "for k,v in newdict.items():\n",
        "  if v not in empty_dict:\n",
        "    empty_dict[v] = [k]\n",
        "  else:\n",
        "    empty_dict[v].append(k)\n",
        "    print(empty_dict)\n"
      ],
      "metadata": {
        "colab": {
          "base_uri": "https://localhost:8080/"
        },
        "id": "XaF0FgaB6J5x",
        "outputId": "9af94d68-a421-401e-de2e-797e9d55d7fb"
      },
      "execution_count": null,
      "outputs": [
        {
          "output_type": "stream",
          "name": "stdout",
          "text": [
            "key1 : value1,key2 : value2,key3 : value1\n",
            "{' value1': ['key1 ', 'key3 '], ' value2': ['key2 ']}\n"
          ]
        }
      ]
    },
    {
      "cell_type": "code",
      "source": [
        "#TASK_04\n",
        "given_sentence = input()\n",
        "given_sentence = given_sentence.lower().split(\" \")\n",
        "empty_dict = {}\n",
        "for i in given_sentence:\n",
        "  for j in i:\n",
        "    if j not in empty_dict:\n",
        "      empty_dict[j] = 1\n",
        "    else:\n",
        "      empty_dict[j]+=1\n",
        "print(empty_dict)\n"
      ],
      "metadata": {
        "colab": {
          "base_uri": "https://localhost:8080/"
        },
        "id": "uBgGTZ4s8_1s",
        "outputId": "3e3d0bcb-cd14-467c-dcb1-0d39ec172033"
      },
      "execution_count": null,
      "outputs": [
        {
          "output_type": "stream",
          "name": "stdout",
          "text": [
            "Python programming is fun\n",
            "{'p': 2, 'y': 1, 't': 1, 'h': 1, 'o': 2, 'n': 3, 'r': 2, 'g': 2, 'a': 1, 'm': 2, 'i': 2, 's': 1, 'f': 1, 'u': 1}\n"
          ]
        }
      ]
    },
    {
      "cell_type": "code",
      "source": [
        "#TASK_05\n",
        "N1 = input(\"Enter first string: \")\n",
        "N2=input(\"Enter second string: \")\n",
        "def dictionary(n):\n",
        "    dic={}\n",
        "    for i in n:\n",
        "        dic[i]=[]\n",
        "    return dic\n",
        "\n",
        "dic1=dictionary(N1)\n",
        "dic2=dictionary(N2)\n",
        "\n",
        "\n",
        "final_dic={}\n",
        "count=0\n",
        "for k1 in dic1:\n",
        "    if k1 in dic2:\n",
        "        continue\n",
        "    else:\n",
        "        count+=1\n",
        "\n",
        "if count == 0:\n",
        "    print(\"Those strings are anagrams.\")\n",
        "else:\n",
        "    print(\"Not anagrams.\")"
      ],
      "metadata": {
        "colab": {
          "base_uri": "https://localhost:8080/"
        },
        "id": "ScAd2Bif9PW9",
        "outputId": "2b213393-4c1e-4228-9726-8003f710e7ca"
      },
      "execution_count": null,
      "outputs": [
        {
          "output_type": "stream",
          "name": "stdout",
          "text": [
            "Enter first string: evil\n",
            "Enter second string: live\n",
            "Those strings are anagrams.\n"
          ]
        }
      ]
    },
    {
      "cell_type": "code",
      "source": [
        "#TASK_06\n",
        "numpad = {1:\".,?!:\",2:\"ABC\",3:\"DEF\",4:\"GHI\",5:\"JKL\",6:\"MNO\",7:\"PQRS\",8:\"TUV\",9:\"WXYZ\",0:\" \"}\n",
        "\n",
        "string=input(\"Please type here: \").upper()\n",
        "\n",
        "for i in string:\n",
        "    for k,v in numpad.items():\n",
        "        idx=0\n",
        "        if i in v:\n",
        "            for j in range(len(v)):\n",
        "                if v[j]==i:\n",
        "                    idx=j+1\n",
        "            for l in range(idx):\n",
        "                print(k,end=\"\")"
      ],
      "metadata": {
        "colab": {
          "base_uri": "https://localhost:8080/"
        },
        "id": "VVkbfZEm9Ppb",
        "outputId": "7aa2535a-de31-4035-fb48-ab9bf60a0da9"
      },
      "execution_count": null,
      "outputs": [
        {
          "output_type": "stream",
          "name": "stdout",
          "text": [
            "Please type here: Hello, World!\n",
            "4433555555666110966677755531111"
          ]
        }
      ]
    }
  ]
}